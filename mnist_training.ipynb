{
 "cells": [
  {
   "cell_type": "markdown",
   "metadata": {},
   "source": [
    "### Step1. 필요한 라이브러리들을 import 합니다."
   ]
  },
  {
   "cell_type": "code",
   "execution_count": 1,
   "metadata": {},
   "outputs": [],
   "source": [
    "import pandas as pd\n",
    "import numpy as np\n",
    "import tensorflow\n",
    "\n",
    "import matplotlib.pyplot as plt\n",
    "import seaborn as sns\n",
    "\n",
    "from sklearn.model_selection import train_test_split\n",
    "from sklearn.metrics import confusion_matrix\n",
    "\n",
    "from tensorflow.keras.models import Sequential\n",
    "from tensorflow.keras.layers import Conv2D, Lambda, MaxPooling2D # convolution layers\n",
    "from tensorflow.keras.layers import Dense, Dropout, Flatten, Activation # core layers\n",
    "from tensorflow.keras.layers import BatchNormalization\n",
    "\n",
    "from tensorflow.keras.preprocessing.image import ImageDataGenerator\n",
    "from tensorflow.keras.utils import to_categorical"
   ]
  },
  {
   "cell_type": "markdown",
   "metadata": {},
   "source": [
    "### STEP2. 데이터셋을 설정"
   ]
  },
  {
   "cell_type": "code",
   "execution_count": 2,
   "metadata": {},
   "outputs": [
    {
     "name": "stdout",
     "output_type": "stream",
     "text": [
      "Data are Ready!!\n",
      "Training data size is (42000, 785)\n",
      "Testing data size is (28000, 784)\n"
     ]
    }
   ],
   "source": [
    "train = pd.read_csv('./input/train.csv')\n",
    "test = pd.read_csv('./input/test.csv')\n",
    "sub = pd.read_csv('./input/sample_submission.csv')\n",
    "print(\"Data are Ready!!\")\n",
    "print(f\"Training data size is {train.shape}\\nTesting data size is {test.shape}\")"
   ]
  },
  {
   "cell_type": "markdown",
   "metadata": {},
   "source": [
    "레이블링 세팅"
   ]
  },
  {
   "cell_type": "code",
   "execution_count": 3,
   "metadata": {},
   "outputs": [
    {
     "name": "stderr",
     "output_type": "stream",
     "text": [
      "/var/folders/v3/ybc9hrrd0yg6d_zr2sbckrtm0000gn/T/ipykernel_9067/368830679.py:1: FutureWarning: In a future version of pandas all arguments of DataFrame.drop except for the argument 'labels' will be keyword-only.\n",
      "  X = train.drop(['label'], 1).values\n"
     ]
    }
   ],
   "source": [
    "X = train.drop(['label'], 1).values\n",
    "y = train['label'].values\n"
   ]
  },
  {
   "cell_type": "markdown",
   "metadata": {},
   "source": [
    "Nomalization"
   ]
  },
  {
   "cell_type": "code",
   "execution_count": 4,
   "metadata": {},
   "outputs": [],
   "source": [
    "X = X / 255.0"
   ]
  },
  {
   "cell_type": "markdown",
   "metadata": {},
   "source": [
    "Reshape, 주의 ! 위의 두 셀은 딱 한번씩만"
   ]
  },
  {
   "cell_type": "code",
   "execution_count": 5,
   "metadata": {},
   "outputs": [],
   "source": [
    "X = X.reshape(-1,28,28,1)"
   ]
  },
  {
   "cell_type": "markdown",
   "metadata": {},
   "source": [
    "One-hot 인코딩"
   ]
  },
  {
   "cell_type": "code",
   "execution_count": 6,
   "metadata": {},
   "outputs": [
    {
     "name": "stdout",
     "output_type": "stream",
     "text": [
      "Label size (42000, 10)\n"
     ]
    }
   ],
   "source": [
    "y = to_categorical(y)\n",
    "\n",
    "print(f\"Label size {y.shape}\")"
   ]
  },
  {
   "cell_type": "markdown",
   "metadata": {},
   "source": [
    "학습 데이터 분리"
   ]
  },
  {
   "cell_type": "code",
   "execution_count": 7,
   "metadata": {},
   "outputs": [
    {
     "data": {
      "text/plain": [
       "((37800, 28, 28, 1), (4200, 28, 28, 1), (37800, 10), (4200, 10))"
      ]
     },
     "execution_count": 7,
     "metadata": {},
     "output_type": "execute_result"
    }
   ],
   "source": [
    "X_train, X_test, y_train, y_test = train_test_split(X, y, test_size=0.1, random_state=0)\n",
    "X_train.shape, X_test.shape, y_train.shape, y_test.shape"
   ]
  },
  {
   "cell_type": "markdown",
   "metadata": {},
   "source": [
    "샘플 데이터 몇개를 시각화"
   ]
  },
  {
   "cell_type": "code",
   "execution_count": 8,
   "metadata": {},
   "outputs": [
    {
     "data": {
      "image/png": "[encoded data removed]",
      "text/plain": [
       "<Figure size 2000x1000 with 4 Axes>"
      ]
     },
     "metadata": {},
     "output_type": "display_data"
    }
   ],
   "source": [
    "X_train__ = X_train.reshape(X_train.shape[0], 28, 28)\n",
    "\n",
    "fig, axis = plt.subplots(1, 4, figsize=(20, 10))\n",
    "for i, ax in enumerate(axis.flat):\n",
    "    ax.imshow(X_train__[i], cmap='binary')\n",
    "    digit = y_train[i].argmax()\n",
    "    ax.set(title = f\"Real Number is {digit}\");"
   ]
  },
  {
   "cell_type": "markdown",
   "metadata": {},
   "source": [
    "### STEP3. CNN모델 만들기"
   ]
  },
  {
   "cell_type": "code",
   "execution_count": 17,
   "metadata": {},
   "outputs": [
    {
     "name": "stdout",
     "output_type": "stream",
     "text": [
      "Tensor(\"random_multiplier_layer_42/random_uniform:0\", shape=(26, 26, 64), dtype=float32)\n",
      "Tensor(\"random_multiplier_layer_43/random_uniform:0\", shape=(26, 26, 64), dtype=float32)\n",
      "Tensor(\"random_multiplier_layer_44/random_uniform:0\", shape=(24, 24, 64), dtype=float32)\n",
      "Tensor(\"random_multiplier_layer_45/random_uniform:0\", shape=(24, 24, 64), dtype=float32)\n",
      "Tensor(\"random_multiplier_layer_46/random_uniform:0\", shape=(12, 12, 64), dtype=float32)\n",
      "Tensor(\"random_multiplier_layer_47/random_uniform:0\", shape=(12, 12, 64), dtype=float32)\n",
      "Tensor(\"random_multiplier_layer_48/random_uniform:0\", shape=(10, 10, 128), dtype=float32)\n",
      "Tensor(\"random_multiplier_layer_49/random_uniform:0\", shape=(10, 10, 128), dtype=float32)\n",
      "Tensor(\"random_multiplier_layer_50/random_uniform:0\", shape=(8, 8, 128), dtype=float32)\n",
      "Tensor(\"random_multiplier_layer_51/random_uniform:0\", shape=(8, 8, 128), dtype=float32)\n",
      "Tensor(\"random_multiplier_layer_52/random_uniform:0\", shape=(4, 4, 128), dtype=float32)\n",
      "Tensor(\"random_multiplier_layer_53/random_uniform:0\", shape=(4, 4, 128), dtype=float32)\n",
      "Tensor(\"random_multiplier_layer_54/random_uniform:0\", shape=(2, 2, 256), dtype=float32)\n",
      "Tensor(\"random_multiplier_layer_55/random_uniform:0\", shape=(2, 2, 256), dtype=float32)\n",
      "Tensor(\"random_multiplier_layer_56/random_uniform:0\", shape=(1, 1, 256), dtype=float32)\n",
      "Tensor(\"random_multiplier_layer_57/random_uniform:0\", shape=(1, 1, 256), dtype=float32)\n",
      "Tensor(\"random_multiplier_layer_58/random_uniform:0\", shape=(256,), dtype=float32)\n",
      "Tensor(\"random_multiplier_layer_59/random_uniform:0\", shape=(512,), dtype=float32)\n",
      "Tensor(\"random_multiplier_layer_60/random_uniform:0\", shape=(512,), dtype=float32)\n",
      "Tensor(\"random_multiplier_layer_61/random_uniform:0\", shape=(10,), dtype=float32)\n",
      "Tensor(\"random_multiplier_layer_62/random_uniform:0\", shape=(10,), dtype=float32)\n"
     ]
    }
   ],
   "source": [
    "def random_multiplier(shape):\n",
    "    return tensorflow.random.uniform(shape, minval=0.99, maxval=1.01)\n",
    "\n",
    "class RandomMultiplierLayer(tensorflow.keras.layers.Layer):\n",
    "    def call(self, inputs):\n",
    "        random_factors = random_multiplier(inputs.shape[1:])\n",
    "        return inputs * random_factors\n",
    "\n",
    "model=Sequential()\n",
    "\n",
    "model.add(Conv2D(filters=64, kernel_size = (3,3), input_shape=(28,28,1)))\n",
    "model.add(RandomMultiplierLayer())\n",
    "model.add(Activation('relu'))\n",
    "model.add(RandomMultiplierLayer())\n",
    "model.add(Conv2D(filters=64, kernel_size = (3,3)))\n",
    "model.add(RandomMultiplierLayer())\n",
    "model.add(Activation('relu'))\n",
    "model.add(RandomMultiplierLayer())\n",
    "model.add(MaxPooling2D(pool_size=(2,2)))\n",
    "model.add(RandomMultiplierLayer())\n",
    "model.add(BatchNormalization())\n",
    "model.add(RandomMultiplierLayer())\n",
    "\n",
    "model.add(Conv2D(filters=128, kernel_size = (3,3)))\n",
    "model.add(RandomMultiplierLayer())\n",
    "model.add(Activation('relu'))\n",
    "model.add(RandomMultiplierLayer())\n",
    "\n",
    "\n",
    "model.add(Conv2D(filters=128, kernel_size = (3,3)))\n",
    "model.add(RandomMultiplierLayer())\n",
    "model.add(Activation('relu'))\n",
    "model.add(RandomMultiplierLayer())\n",
    "\n",
    "\n",
    "model.add(MaxPooling2D(pool_size=(2,2)))\n",
    "model.add(RandomMultiplierLayer())\n",
    "model.add(BatchNormalization())    \n",
    "model.add(RandomMultiplierLayer())\n",
    "\n",
    "model.add(Conv2D(filters=256, kernel_size = (3,3)))\n",
    "model.add(RandomMultiplierLayer())\n",
    "model.add(Activation('relu'))\n",
    "model.add(RandomMultiplierLayer())\n",
    "\n",
    "model.add(MaxPooling2D(pool_size=(2,2)))\n",
    "model.add(RandomMultiplierLayer())\n",
    "model.add(BatchNormalization())\n",
    "model.add(RandomMultiplierLayer())\n",
    "    \n",
    "model.add(Flatten())\n",
    "model.add(RandomMultiplierLayer())\n",
    "model.add(Dense(512))\n",
    "model.add(RandomMultiplierLayer())\n",
    "model.add(Activation('relu'))\n",
    "model.add(RandomMultiplierLayer())\n",
    "\n",
    "    \n",
    "model.add(Dense(10))\n",
    "model.add(RandomMultiplierLayer())\n",
    "model.add(Activation('softmax'))\n",
    "model.add(RandomMultiplierLayer())\n",
    "\n",
    "    \n",
    "model.compile(loss=\"categorical_crossentropy\", optimizer=\"adam\", metrics=[\"accuracy\"])"
   ]
  },
  {
   "cell_type": "markdown",
   "metadata": {},
   "source": [
    "모델 요약"
   ]
  },
  {
   "cell_type": "code",
   "execution_count": 10,
   "metadata": {},
   "outputs": [
    {
     "name": "stdout",
     "output_type": "stream",
     "text": [
      "Model: \"sequential\"\n",
      "_________________________________________________________________\n",
      " Layer (type)                Output Shape              Param #   \n",
      "=================================================================\n",
      " conv2d (Conv2D)             (None, 26, 26, 64)        640       \n",
      "                                                                 \n",
      " random_multiplier_layer (Ra  (None, 26, 26, 64)       0         \n",
      " ndomMultiplierLayer)                                            \n",
      "                                                                 \n",
      " activation (Activation)     (None, 26, 26, 64)        0         \n",
      "                                                                 \n",
      " random_multiplier_layer_1 (  (None, 26, 26, 64)       0         \n",
      " RandomMultiplierLayer)                                          \n",
      "                                                                 \n",
      " conv2d_1 (Conv2D)           (None, 24, 24, 64)        36928     \n",
      "                                                                 \n",
      " random_multiplier_layer_2 (  (None, 24, 24, 64)       0         \n",
      " RandomMultiplierLayer)                                          \n",
      "                                                                 \n",
      " activation_1 (Activation)   (None, 24, 24, 64)        0         \n",
      "                                                                 \n",
      " random_multiplier_layer_3 (  (None, 24, 24, 64)       0         \n",
      " RandomMultiplierLayer)                                          \n",
      "                                                                 \n",
      " max_pooling2d (MaxPooling2D  (None, 12, 12, 64)       0         \n",
      " )                                                               \n",
      "                                                                 \n",
      " random_multiplier_layer_4 (  (None, 12, 12, 64)       0         \n",
      " RandomMultiplierLayer)                                          \n",
      "                                                                 \n",
      " batch_normalization (BatchN  (None, 12, 12, 64)       256       \n",
      " ormalization)                                                   \n",
      "                                                                 \n",
      " random_multiplier_layer_5 (  (None, 12, 12, 64)       0         \n",
      " RandomMultiplierLayer)                                          \n",
      "                                                                 \n",
      " conv2d_2 (Conv2D)           (None, 10, 10, 128)       73856     \n",
      "                                                                 \n",
      " random_multiplier_layer_6 (  (None, 10, 10, 128)      0         \n",
      " RandomMultiplierLayer)                                          \n",
      "                                                                 \n",
      " activation_2 (Activation)   (None, 10, 10, 128)       0         \n",
      "                                                                 \n",
      " random_multiplier_layer_7 (  (None, 10, 10, 128)      0         \n",
      " RandomMultiplierLayer)                                          \n",
      "                                                                 \n",
      " conv2d_3 (Conv2D)           (None, 8, 8, 128)         147584    \n",
      "                                                                 \n",
      " random_multiplier_layer_8 (  (None, 8, 8, 128)        0         \n",
      " RandomMultiplierLayer)                                          \n",
      "                                                                 \n",
      " activation_3 (Activation)   (None, 8, 8, 128)         0         \n",
      "                                                                 \n",
      " random_multiplier_layer_9 (  (None, 8, 8, 128)        0         \n",
      " RandomMultiplierLayer)                                          \n",
      "                                                                 \n",
      " max_pooling2d_1 (MaxPooling  (None, 4, 4, 128)        0         \n",
      " 2D)                                                             \n",
      "                                                                 \n",
      " random_multiplier_layer_10   (None, 4, 4, 128)        0         \n",
      " (RandomMultiplierLayer)                                         \n",
      "                                                                 \n",
      " batch_normalization_1 (Batc  (None, 4, 4, 128)        512       \n",
      " hNormalization)                                                 \n",
      "                                                                 \n",
      " random_multiplier_layer_11   (None, 4, 4, 128)        0         \n",
      " (RandomMultiplierLayer)                                         \n",
      "                                                                 \n",
      " conv2d_4 (Conv2D)           (None, 2, 2, 256)         295168    \n",
      "                                                                 \n",
      " random_multiplier_layer_12   (None, 2, 2, 256)        0         \n",
      " (RandomMultiplierLayer)                                         \n",
      "                                                                 \n",
      " activation_4 (Activation)   (None, 2, 2, 256)         0         \n",
      "                                                                 \n",
      " random_multiplier_layer_13   (None, 2, 2, 256)        0         \n",
      " (RandomMultiplierLayer)                                         \n",
      "                                                                 \n",
      " max_pooling2d_2 (MaxPooling  (None, 1, 1, 256)        0         \n",
      " 2D)                                                             \n",
      "                                                                 \n",
      " random_multiplier_layer_14   (None, 1, 1, 256)        0         \n",
      " (RandomMultiplierLayer)                                         \n",
      "                                                                 \n",
      " batch_normalization_2 (Batc  (None, 1, 1, 256)        1024      \n",
      " hNormalization)                                                 \n",
      "                                                                 \n",
      " random_multiplier_layer_15   (None, 1, 1, 256)        0         \n",
      " (RandomMultiplierLayer)                                         \n",
      "                                                                 \n",
      " flatten (Flatten)           (None, 256)               0         \n",
      "                                                                 \n",
      " random_multiplier_layer_16   (None, 256)              0         \n",
      " (RandomMultiplierLayer)                                         \n",
      "                                                                 \n",
      " dense (Dense)               (None, 512)               131584    \n",
      "                                                                 \n",
      " random_multiplier_layer_17   (None, 512)              0         \n",
      " (RandomMultiplierLayer)                                         \n",
      "                                                                 \n",
      " activation_5 (Activation)   (None, 512)               0         \n",
      "                                                                 \n",
      " random_multiplier_layer_18   (None, 512)              0         \n",
      " (RandomMultiplierLayer)                                         \n",
      "                                                                 \n",
      " dense_1 (Dense)             (None, 10)                5130      \n",
      "                                                                 \n",
      " random_multiplier_layer_19   (None, 10)               0         \n",
      " (RandomMultiplierLayer)                                         \n",
      "                                                                 \n",
      " activation_6 (Activation)   (None, 10)                0         \n",
      "                                                                 \n",
      " random_multiplier_layer_20   (None, 10)               0         \n",
      " (RandomMultiplierLayer)                                         \n",
      "                                                                 \n",
      "=================================================================\n",
      "Total params: 692,682\n",
      "Trainable params: 691,786\n",
      "Non-trainable params: 896\n",
      "_________________________________________________________________\n"
     ]
    }
   ],
   "source": [
    "model.summary()"
   ]
  },
  {
   "cell_type": "markdown",
   "metadata": {},
   "source": [
    "데이터 증강"
   ]
  },
  {
   "cell_type": "code",
   "execution_count": 11,
   "metadata": {},
   "outputs": [],
   "source": [
    "datagen = ImageDataGenerator(\n",
    "        featurewise_center=False,  # set input mean to 0 over the dataset\n",
    "        samplewise_center=False,  # set each sample mean to 0\n",
    "        featurewise_std_normalization=False,  # divide inputs by std of the dataset\n",
    "        samplewise_std_normalization=False,  # divide each input by its std\n",
    "        zca_whitening=False,  # apply ZCA whitening\n",
    "        rotation_range=15,  # randomly rotate images in the range (degrees, 0 to 180)\n",
    "        zoom_range = 0.01, # Randomly zoom image \n",
    "        width_shift_range=0.1,  # randomly shift images horizontally (fraction of total width)\n",
    "        height_shift_range=0.1,  # randomly shift images vertically (fraction of total height)\n",
    "        horizontal_flip=False,  # randomly flip images\n",
    "        vertical_flip=False)  # randomly flip images\n",
    "\n",
    "\n",
    "#datagen.fit(X_train)\n",
    "train_gen = datagen.flow(X_train, y_train, batch_size=512)\n",
    "test_gen = datagen.flow(X_test, y_test, batch_size=512)"
   ]
  },
  {
   "cell_type": "markdown",
   "metadata": {},
   "source": [
    "학습 세부 설정"
   ]
  },
  {
   "cell_type": "code",
   "execution_count": 12,
   "metadata": {},
   "outputs": [],
   "source": [
    "epochs = 50\n",
    "batch_size = 512\n",
    "train_steps = X_train.shape[0] // batch_size\n",
    "valid_steps = X_test.shape[0] // batch_size\n",
    "\n",
    "es = tensorflow.keras.callbacks.EarlyStopping(\n",
    "        monitor=\"val_accuracy\", # metrics to monitor\n",
    "        patience=10, # how many epochs before stop\n",
    "        verbose=1,\n",
    "        mode=\"max\", # we need the maximum accuracy.\n",
    "        restore_best_weights=True, # \n",
    "     )\n",
    "\n",
    "rp = tensorflow.keras.callbacks.ReduceLROnPlateau(\n",
    "        monitor=\"val_accuracy\",\n",
    "        factor=0.2,\n",
    "        patience=3,\n",
    "        verbose=1,\n",
    "        mode=\"max\",\n",
    "        min_lr=0.00001,\n",
    "     )"
   ]
  },
  {
   "cell_type": "markdown",
   "metadata": {},
   "source": [
    "모델의 학습 진행"
   ]
  },
  {
   "cell_type": "code",
   "execution_count": 13,
   "metadata": {},
   "outputs": [
    {
     "name": "stdout",
     "output_type": "stream",
     "text": [
      "Epoch 1/50\n"
     ]
    },
    {
     "name": "stderr",
     "output_type": "stream",
     "text": [
      "/var/folders/v3/ybc9hrrd0yg6d_zr2sbckrtm0000gn/T/ipykernel_9067/3085895664.py:1: UserWarning: `Model.fit_generator` is deprecated and will be removed in a future version. Please use `Model.fit`, which supports generators.\n",
      "  history = model.fit_generator(train_gen,\n",
      "2023-08-09 01:42:06.061721: W tensorflow/core/platform/profile_utils/cpu_utils.cc:128] Failed to get CPU frequency: 0 Hz\n",
      "2023-08-09 01:42:06.909043: I tensorflow/core/grappler/optimizers/custom_graph_optimizer_registry.cc:113] Plugin optimizer for device_type GPU is enabled.\n"
     ]
    },
    {
     "name": "stdout",
     "output_type": "stream",
     "text": [
      "73/73 [==============================] - ETA: 0s - loss: 0.2294 - accuracy: 0.9299"
     ]
    },
    {
     "name": "stderr",
     "output_type": "stream",
     "text": [
      "2023-08-09 01:42:35.997811: I tensorflow/core/grappler/optimizers/custom_graph_optimizer_registry.cc:113] Plugin optimizer for device_type GPU is enabled.\n"
     ]
    },
    {
     "name": "stdout",
     "output_type": "stream",
     "text": [
      "73/73 [==============================] - 31s 321ms/step - loss: 0.2294 - accuracy: 0.9299 - val_loss: 2.3173 - val_accuracy: 0.1138 - lr: 0.0010\n",
      "Epoch 2/50\n",
      "73/73 [==============================] - 21s 294ms/step - loss: 0.0595 - accuracy: 0.9813 - val_loss: 2.5159 - val_accuracy: 0.2012 - lr: 0.0010\n",
      "Epoch 3/50\n",
      "73/73 [==============================] - 21s 291ms/step - loss: 0.0417 - accuracy: 0.9875 - val_loss: 1.9980 - val_accuracy: 0.3606 - lr: 0.0010\n",
      "Epoch 4/50\n",
      "73/73 [==============================] - 22s 298ms/step - loss: 0.0342 - accuracy: 0.9889 - val_loss: 1.8100 - val_accuracy: 0.3967 - lr: 0.0010\n",
      "Epoch 5/50\n",
      "73/73 [==============================] - 21s 284ms/step - loss: 0.0319 - accuracy: 0.9899 - val_loss: 0.7715 - val_accuracy: 0.7271 - lr: 0.0010\n",
      "Epoch 6/50\n",
      "73/73 [==============================] - 22s 298ms/step - loss: 0.0288 - accuracy: 0.9908 - val_loss: 0.4359 - val_accuracy: 0.8484 - lr: 0.0010\n",
      "Epoch 7/50\n",
      "73/73 [==============================] - 21s 287ms/step - loss: 0.0263 - accuracy: 0.9916 - val_loss: 0.1774 - val_accuracy: 0.9412 - lr: 0.0010\n",
      "Epoch 8/50\n",
      "73/73 [==============================] - 22s 300ms/step - loss: 0.0262 - accuracy: 0.9918 - val_loss: 0.0387 - val_accuracy: 0.9875 - lr: 0.0010\n",
      "Epoch 9/50\n",
      "73/73 [==============================] - 22s 303ms/step - loss: 0.0243 - accuracy: 0.9917 - val_loss: 0.0509 - val_accuracy: 0.9851 - lr: 0.0010\n",
      "Epoch 10/50\n",
      "73/73 [==============================] - 21s 284ms/step - loss: 0.0214 - accuracy: 0.9932 - val_loss: 0.0349 - val_accuracy: 0.9878 - lr: 0.0010\n",
      "Epoch 11/50\n",
      "73/73 [==============================] - 21s 285ms/step - loss: 0.0200 - accuracy: 0.9933 - val_loss: 0.0364 - val_accuracy: 0.9883 - lr: 0.0010\n",
      "Epoch 12/50\n",
      "73/73 [==============================] - 21s 281ms/step - loss: 0.0181 - accuracy: 0.9943 - val_loss: 0.0372 - val_accuracy: 0.9900 - lr: 0.0010\n",
      "Epoch 13/50\n",
      "73/73 [==============================] - 21s 286ms/step - loss: 0.0177 - accuracy: 0.9942 - val_loss: 0.0392 - val_accuracy: 0.9880 - lr: 0.0010\n",
      "Epoch 14/50\n",
      "73/73 [==============================] - 21s 286ms/step - loss: 0.0147 - accuracy: 0.9950 - val_loss: 0.0516 - val_accuracy: 0.9844 - lr: 0.0010\n",
      "Epoch 15/50\n",
      "73/73 [==============================] - 21s 286ms/step - loss: 0.0162 - accuracy: 0.9943 - val_loss: 0.0310 - val_accuracy: 0.9915 - lr: 0.0010\n",
      "Epoch 16/50\n",
      "73/73 [==============================] - 22s 304ms/step - loss: 0.0147 - accuracy: 0.9952 - val_loss: 0.0543 - val_accuracy: 0.9854 - lr: 0.0010\n",
      "Epoch 17/50\n",
      "73/73 [==============================] - 21s 284ms/step - loss: 0.0167 - accuracy: 0.9942 - val_loss: 0.0399 - val_accuracy: 0.9888 - lr: 0.0010\n",
      "Epoch 18/50\n",
      "73/73 [==============================] - ETA: 0s - loss: 0.0134 - accuracy: 0.9954\n",
      "Epoch 18: ReduceLROnPlateau reducing learning rate to 0.00020000000949949026.\n",
      "73/73 [==============================] - 22s 298ms/step - loss: 0.0134 - accuracy: 0.9954 - val_loss: 0.0602 - val_accuracy: 0.9839 - lr: 0.0010\n",
      "Epoch 19/50\n",
      "73/73 [==============================] - 21s 283ms/step - loss: 0.0099 - accuracy: 0.9968 - val_loss: 0.0211 - val_accuracy: 0.9941 - lr: 2.0000e-04\n",
      "Epoch 20/50\n",
      "73/73 [==============================] - 20s 275ms/step - loss: 0.0066 - accuracy: 0.9979 - val_loss: 0.0205 - val_accuracy: 0.9937 - lr: 2.0000e-04\n",
      "Epoch 21/50\n",
      "73/73 [==============================] - 21s 284ms/step - loss: 0.0066 - accuracy: 0.9979 - val_loss: 0.0200 - val_accuracy: 0.9951 - lr: 2.0000e-04\n",
      "Epoch 22/50\n",
      "12/73 [===>..........................] - ETA: 18s - loss: 0.0050 - accuracy: 0.9985"
     ]
    },
    {
     "ename": "KeyboardInterrupt",
     "evalue": "",
     "output_type": "error",
     "traceback": [
      "\u001b[0;31m---------------------------------------------------------------------------\u001b[0m",
      "\u001b[0;31mKeyboardInterrupt\u001b[0m                         Traceback (most recent call last)",
      "Cell \u001b[0;32mIn[13], line 1\u001b[0m\n\u001b[0;32m----> 1\u001b[0m history \u001b[39m=\u001b[39m model\u001b[39m.\u001b[39;49mfit_generator(train_gen, \n\u001b[1;32m      2\u001b[0m                               epochs \u001b[39m=\u001b[39;49m epochs, \n\u001b[1;32m      3\u001b[0m                               steps_per_epoch \u001b[39m=\u001b[39;49m train_steps,\n\u001b[1;32m      4\u001b[0m                               validation_data \u001b[39m=\u001b[39;49m test_gen,\n\u001b[1;32m      5\u001b[0m                               validation_steps \u001b[39m=\u001b[39;49m valid_steps, \n\u001b[1;32m      6\u001b[0m                               callbacks\u001b[39m=\u001b[39;49m[es, rp])\n",
      "File \u001b[0;32m/opt/homebrew/Caskroom/miniconda/base/envs/vision/lib/python3.9/site-packages/keras/engine/training.py:2260\u001b[0m, in \u001b[0;36mModel.fit_generator\u001b[0;34m(self, generator, steps_per_epoch, epochs, verbose, callbacks, validation_data, validation_steps, validation_freq, class_weight, max_queue_size, workers, use_multiprocessing, shuffle, initial_epoch)\u001b[0m\n\u001b[1;32m   2249\u001b[0m \u001b[39m\u001b[39m\u001b[39m\"\"\"Fits the model on data yielded batch-by-batch by a Python generator.\u001b[39;00m\n\u001b[1;32m   2250\u001b[0m \n\u001b[1;32m   2251\u001b[0m \u001b[39mDEPRECATED:\u001b[39;00m\n\u001b[1;32m   2252\u001b[0m \u001b[39m  `Model.fit` now supports generators, so there is no longer any need to use\u001b[39;00m\n\u001b[1;32m   2253\u001b[0m \u001b[39m  this endpoint.\u001b[39;00m\n\u001b[1;32m   2254\u001b[0m \u001b[39m\"\"\"\u001b[39;00m\n\u001b[1;32m   2255\u001b[0m warnings\u001b[39m.\u001b[39mwarn(\n\u001b[1;32m   2256\u001b[0m     \u001b[39m'\u001b[39m\u001b[39m`Model.fit_generator` is deprecated and \u001b[39m\u001b[39m'\u001b[39m\n\u001b[1;32m   2257\u001b[0m     \u001b[39m'\u001b[39m\u001b[39mwill be removed in a future version. \u001b[39m\u001b[39m'\u001b[39m\n\u001b[1;32m   2258\u001b[0m     \u001b[39m'\u001b[39m\u001b[39mPlease use `Model.fit`, which supports generators.\u001b[39m\u001b[39m'\u001b[39m,\n\u001b[1;32m   2259\u001b[0m     stacklevel\u001b[39m=\u001b[39m\u001b[39m2\u001b[39m)\n\u001b[0;32m-> 2260\u001b[0m \u001b[39mreturn\u001b[39;00m \u001b[39mself\u001b[39;49m\u001b[39m.\u001b[39;49mfit(\n\u001b[1;32m   2261\u001b[0m     generator,\n\u001b[1;32m   2262\u001b[0m     steps_per_epoch\u001b[39m=\u001b[39;49msteps_per_epoch,\n\u001b[1;32m   2263\u001b[0m     epochs\u001b[39m=\u001b[39;49mepochs,\n\u001b[1;32m   2264\u001b[0m     verbose\u001b[39m=\u001b[39;49mverbose,\n\u001b[1;32m   2265\u001b[0m     callbacks\u001b[39m=\u001b[39;49mcallbacks,\n\u001b[1;32m   2266\u001b[0m     validation_data\u001b[39m=\u001b[39;49mvalidation_data,\n\u001b[1;32m   2267\u001b[0m     validation_steps\u001b[39m=\u001b[39;49mvalidation_steps,\n\u001b[1;32m   2268\u001b[0m     validation_freq\u001b[39m=\u001b[39;49mvalidation_freq,\n\u001b[1;32m   2269\u001b[0m     class_weight\u001b[39m=\u001b[39;49mclass_weight,\n\u001b[1;32m   2270\u001b[0m     max_queue_size\u001b[39m=\u001b[39;49mmax_queue_size,\n\u001b[1;32m   2271\u001b[0m     workers\u001b[39m=\u001b[39;49mworkers,\n\u001b[1;32m   2272\u001b[0m     use_multiprocessing\u001b[39m=\u001b[39;49muse_multiprocessing,\n\u001b[1;32m   2273\u001b[0m     shuffle\u001b[39m=\u001b[39;49mshuffle,\n\u001b[1;32m   2274\u001b[0m     initial_epoch\u001b[39m=\u001b[39;49minitial_epoch)\n",
      "File \u001b[0;32m/opt/homebrew/Caskroom/miniconda/base/envs/vision/lib/python3.9/site-packages/keras/utils/traceback_utils.py:64\u001b[0m, in \u001b[0;36mfilter_traceback.<locals>.error_handler\u001b[0;34m(*args, **kwargs)\u001b[0m\n\u001b[1;32m     62\u001b[0m filtered_tb \u001b[39m=\u001b[39m \u001b[39mNone\u001b[39;00m\n\u001b[1;32m     63\u001b[0m \u001b[39mtry\u001b[39;00m:\n\u001b[0;32m---> 64\u001b[0m   \u001b[39mreturn\u001b[39;00m fn(\u001b[39m*\u001b[39;49margs, \u001b[39m*\u001b[39;49m\u001b[39m*\u001b[39;49mkwargs)\n\u001b[1;32m     65\u001b[0m \u001b[39mexcept\u001b[39;00m \u001b[39mException\u001b[39;00m \u001b[39mas\u001b[39;00m e:  \u001b[39m# pylint: disable=broad-except\u001b[39;00m\n\u001b[1;32m     66\u001b[0m   filtered_tb \u001b[39m=\u001b[39m _process_traceback_frames(e\u001b[39m.\u001b[39m__traceback__)\n",
      "File \u001b[0;32m/opt/homebrew/Caskroom/miniconda/base/envs/vision/lib/python3.9/site-packages/keras/engine/training.py:1409\u001b[0m, in \u001b[0;36mModel.fit\u001b[0;34m(self, x, y, batch_size, epochs, verbose, callbacks, validation_split, validation_data, shuffle, class_weight, sample_weight, initial_epoch, steps_per_epoch, validation_steps, validation_batch_size, validation_freq, max_queue_size, workers, use_multiprocessing)\u001b[0m\n\u001b[1;32m   1402\u001b[0m \u001b[39mwith\u001b[39;00m tf\u001b[39m.\u001b[39mprofiler\u001b[39m.\u001b[39mexperimental\u001b[39m.\u001b[39mTrace(\n\u001b[1;32m   1403\u001b[0m     \u001b[39m'\u001b[39m\u001b[39mtrain\u001b[39m\u001b[39m'\u001b[39m,\n\u001b[1;32m   1404\u001b[0m     epoch_num\u001b[39m=\u001b[39mepoch,\n\u001b[1;32m   1405\u001b[0m     step_num\u001b[39m=\u001b[39mstep,\n\u001b[1;32m   1406\u001b[0m     batch_size\u001b[39m=\u001b[39mbatch_size,\n\u001b[1;32m   1407\u001b[0m     _r\u001b[39m=\u001b[39m\u001b[39m1\u001b[39m):\n\u001b[1;32m   1408\u001b[0m   callbacks\u001b[39m.\u001b[39mon_train_batch_begin(step)\n\u001b[0;32m-> 1409\u001b[0m   tmp_logs \u001b[39m=\u001b[39m \u001b[39mself\u001b[39;49m\u001b[39m.\u001b[39;49mtrain_function(iterator)\n\u001b[1;32m   1410\u001b[0m   \u001b[39mif\u001b[39;00m data_handler\u001b[39m.\u001b[39mshould_sync:\n\u001b[1;32m   1411\u001b[0m     context\u001b[39m.\u001b[39masync_wait()\n",
      "File \u001b[0;32m/opt/homebrew/Caskroom/miniconda/base/envs/vision/lib/python3.9/site-packages/tensorflow/python/util/traceback_utils.py:150\u001b[0m, in \u001b[0;36mfilter_traceback.<locals>.error_handler\u001b[0;34m(*args, **kwargs)\u001b[0m\n\u001b[1;32m    148\u001b[0m filtered_tb \u001b[39m=\u001b[39m \u001b[39mNone\u001b[39;00m\n\u001b[1;32m    149\u001b[0m \u001b[39mtry\u001b[39;00m:\n\u001b[0;32m--> 150\u001b[0m   \u001b[39mreturn\u001b[39;00m fn(\u001b[39m*\u001b[39;49margs, \u001b[39m*\u001b[39;49m\u001b[39m*\u001b[39;49mkwargs)\n\u001b[1;32m    151\u001b[0m \u001b[39mexcept\u001b[39;00m \u001b[39mException\u001b[39;00m \u001b[39mas\u001b[39;00m e:\n\u001b[1;32m    152\u001b[0m   filtered_tb \u001b[39m=\u001b[39m _process_traceback_frames(e\u001b[39m.\u001b[39m__traceback__)\n",
      "File \u001b[0;32m/opt/homebrew/Caskroom/miniconda/base/envs/vision/lib/python3.9/site-packages/tensorflow/python/eager/def_function.py:915\u001b[0m, in \u001b[0;36mFunction.__call__\u001b[0;34m(self, *args, **kwds)\u001b[0m\n\u001b[1;32m    912\u001b[0m compiler \u001b[39m=\u001b[39m \u001b[39m\"\u001b[39m\u001b[39mxla\u001b[39m\u001b[39m\"\u001b[39m \u001b[39mif\u001b[39;00m \u001b[39mself\u001b[39m\u001b[39m.\u001b[39m_jit_compile \u001b[39melse\u001b[39;00m \u001b[39m\"\u001b[39m\u001b[39mnonXla\u001b[39m\u001b[39m\"\u001b[39m\n\u001b[1;32m    914\u001b[0m \u001b[39mwith\u001b[39;00m OptionalXlaContext(\u001b[39mself\u001b[39m\u001b[39m.\u001b[39m_jit_compile):\n\u001b[0;32m--> 915\u001b[0m   result \u001b[39m=\u001b[39m \u001b[39mself\u001b[39;49m\u001b[39m.\u001b[39;49m_call(\u001b[39m*\u001b[39;49margs, \u001b[39m*\u001b[39;49m\u001b[39m*\u001b[39;49mkwds)\n\u001b[1;32m    917\u001b[0m new_tracing_count \u001b[39m=\u001b[39m \u001b[39mself\u001b[39m\u001b[39m.\u001b[39mexperimental_get_tracing_count()\n\u001b[1;32m    918\u001b[0m without_tracing \u001b[39m=\u001b[39m (tracing_count \u001b[39m==\u001b[39m new_tracing_count)\n",
      "File \u001b[0;32m/opt/homebrew/Caskroom/miniconda/base/envs/vision/lib/python3.9/site-packages/tensorflow/python/eager/def_function.py:947\u001b[0m, in \u001b[0;36mFunction._call\u001b[0;34m(self, *args, **kwds)\u001b[0m\n\u001b[1;32m    944\u001b[0m   \u001b[39mself\u001b[39m\u001b[39m.\u001b[39m_lock\u001b[39m.\u001b[39mrelease()\n\u001b[1;32m    945\u001b[0m   \u001b[39m# In this case we have created variables on the first call, so we run the\u001b[39;00m\n\u001b[1;32m    946\u001b[0m   \u001b[39m# defunned version which is guaranteed to never create variables.\u001b[39;00m\n\u001b[0;32m--> 947\u001b[0m   \u001b[39mreturn\u001b[39;00m \u001b[39mself\u001b[39;49m\u001b[39m.\u001b[39;49m_stateless_fn(\u001b[39m*\u001b[39;49margs, \u001b[39m*\u001b[39;49m\u001b[39m*\u001b[39;49mkwds)  \u001b[39m# pylint: disable=not-callable\u001b[39;00m\n\u001b[1;32m    948\u001b[0m \u001b[39melif\u001b[39;00m \u001b[39mself\u001b[39m\u001b[39m.\u001b[39m_stateful_fn \u001b[39mis\u001b[39;00m \u001b[39mnot\u001b[39;00m \u001b[39mNone\u001b[39;00m:\n\u001b[1;32m    949\u001b[0m   \u001b[39m# Release the lock early so that multiple threads can perform the call\u001b[39;00m\n\u001b[1;32m    950\u001b[0m   \u001b[39m# in parallel.\u001b[39;00m\n\u001b[1;32m    951\u001b[0m   \u001b[39mself\u001b[39m\u001b[39m.\u001b[39m_lock\u001b[39m.\u001b[39mrelease()\n",
      "File \u001b[0;32m/opt/homebrew/Caskroom/miniconda/base/envs/vision/lib/python3.9/site-packages/tensorflow/python/eager/function.py:2453\u001b[0m, in \u001b[0;36mFunction.__call__\u001b[0;34m(self, *args, **kwargs)\u001b[0m\n\u001b[1;32m   2450\u001b[0m \u001b[39mwith\u001b[39;00m \u001b[39mself\u001b[39m\u001b[39m.\u001b[39m_lock:\n\u001b[1;32m   2451\u001b[0m   (graph_function,\n\u001b[1;32m   2452\u001b[0m    filtered_flat_args) \u001b[39m=\u001b[39m \u001b[39mself\u001b[39m\u001b[39m.\u001b[39m_maybe_define_function(args, kwargs)\n\u001b[0;32m-> 2453\u001b[0m \u001b[39mreturn\u001b[39;00m graph_function\u001b[39m.\u001b[39;49m_call_flat(\n\u001b[1;32m   2454\u001b[0m     filtered_flat_args, captured_inputs\u001b[39m=\u001b[39;49mgraph_function\u001b[39m.\u001b[39;49mcaptured_inputs)\n",
      "File \u001b[0;32m/opt/homebrew/Caskroom/miniconda/base/envs/vision/lib/python3.9/site-packages/tensorflow/python/eager/function.py:1860\u001b[0m, in \u001b[0;36mConcreteFunction._call_flat\u001b[0;34m(self, args, captured_inputs, cancellation_manager)\u001b[0m\n\u001b[1;32m   1856\u001b[0m possible_gradient_type \u001b[39m=\u001b[39m gradients_util\u001b[39m.\u001b[39mPossibleTapeGradientTypes(args)\n\u001b[1;32m   1857\u001b[0m \u001b[39mif\u001b[39;00m (possible_gradient_type \u001b[39m==\u001b[39m gradients_util\u001b[39m.\u001b[39mPOSSIBLE_GRADIENT_TYPES_NONE\n\u001b[1;32m   1858\u001b[0m     \u001b[39mand\u001b[39;00m executing_eagerly):\n\u001b[1;32m   1859\u001b[0m   \u001b[39m# No tape is watching; skip to running the function.\u001b[39;00m\n\u001b[0;32m-> 1860\u001b[0m   \u001b[39mreturn\u001b[39;00m \u001b[39mself\u001b[39m\u001b[39m.\u001b[39m_build_call_outputs(\u001b[39mself\u001b[39;49m\u001b[39m.\u001b[39;49m_inference_function\u001b[39m.\u001b[39;49mcall(\n\u001b[1;32m   1861\u001b[0m       ctx, args, cancellation_manager\u001b[39m=\u001b[39;49mcancellation_manager))\n\u001b[1;32m   1862\u001b[0m forward_backward \u001b[39m=\u001b[39m \u001b[39mself\u001b[39m\u001b[39m.\u001b[39m_select_forward_and_backward_functions(\n\u001b[1;32m   1863\u001b[0m     args,\n\u001b[1;32m   1864\u001b[0m     possible_gradient_type,\n\u001b[1;32m   1865\u001b[0m     executing_eagerly)\n\u001b[1;32m   1866\u001b[0m forward_function, args_with_tangents \u001b[39m=\u001b[39m forward_backward\u001b[39m.\u001b[39mforward()\n",
      "File \u001b[0;32m/opt/homebrew/Caskroom/miniconda/base/envs/vision/lib/python3.9/site-packages/tensorflow/python/eager/function.py:497\u001b[0m, in \u001b[0;36m_EagerDefinedFunction.call\u001b[0;34m(self, ctx, args, cancellation_manager)\u001b[0m\n\u001b[1;32m    495\u001b[0m \u001b[39mwith\u001b[39;00m _InterpolateFunctionError(\u001b[39mself\u001b[39m):\n\u001b[1;32m    496\u001b[0m   \u001b[39mif\u001b[39;00m cancellation_manager \u001b[39mis\u001b[39;00m \u001b[39mNone\u001b[39;00m:\n\u001b[0;32m--> 497\u001b[0m     outputs \u001b[39m=\u001b[39m execute\u001b[39m.\u001b[39;49mexecute(\n\u001b[1;32m    498\u001b[0m         \u001b[39mstr\u001b[39;49m(\u001b[39mself\u001b[39;49m\u001b[39m.\u001b[39;49msignature\u001b[39m.\u001b[39;49mname),\n\u001b[1;32m    499\u001b[0m         num_outputs\u001b[39m=\u001b[39;49m\u001b[39mself\u001b[39;49m\u001b[39m.\u001b[39;49m_num_outputs,\n\u001b[1;32m    500\u001b[0m         inputs\u001b[39m=\u001b[39;49margs,\n\u001b[1;32m    501\u001b[0m         attrs\u001b[39m=\u001b[39;49mattrs,\n\u001b[1;32m    502\u001b[0m         ctx\u001b[39m=\u001b[39;49mctx)\n\u001b[1;32m    503\u001b[0m   \u001b[39melse\u001b[39;00m:\n\u001b[1;32m    504\u001b[0m     outputs \u001b[39m=\u001b[39m execute\u001b[39m.\u001b[39mexecute_with_cancellation(\n\u001b[1;32m    505\u001b[0m         \u001b[39mstr\u001b[39m(\u001b[39mself\u001b[39m\u001b[39m.\u001b[39msignature\u001b[39m.\u001b[39mname),\n\u001b[1;32m    506\u001b[0m         num_outputs\u001b[39m=\u001b[39m\u001b[39mself\u001b[39m\u001b[39m.\u001b[39m_num_outputs,\n\u001b[0;32m   (...)\u001b[0m\n\u001b[1;32m    509\u001b[0m         ctx\u001b[39m=\u001b[39mctx,\n\u001b[1;32m    510\u001b[0m         cancellation_manager\u001b[39m=\u001b[39mcancellation_manager)\n",
      "File \u001b[0;32m/opt/homebrew/Caskroom/miniconda/base/envs/vision/lib/python3.9/site-packages/tensorflow/python/eager/execute.py:54\u001b[0m, in \u001b[0;36mquick_execute\u001b[0;34m(op_name, num_outputs, inputs, attrs, ctx, name)\u001b[0m\n\u001b[1;32m     52\u001b[0m \u001b[39mtry\u001b[39;00m:\n\u001b[1;32m     53\u001b[0m   ctx\u001b[39m.\u001b[39mensure_initialized()\n\u001b[0;32m---> 54\u001b[0m   tensors \u001b[39m=\u001b[39m pywrap_tfe\u001b[39m.\u001b[39;49mTFE_Py_Execute(ctx\u001b[39m.\u001b[39;49m_handle, device_name, op_name,\n\u001b[1;32m     55\u001b[0m                                       inputs, attrs, num_outputs)\n\u001b[1;32m     56\u001b[0m \u001b[39mexcept\u001b[39;00m core\u001b[39m.\u001b[39m_NotOkStatusException \u001b[39mas\u001b[39;00m e:\n\u001b[1;32m     57\u001b[0m   \u001b[39mif\u001b[39;00m name \u001b[39mis\u001b[39;00m \u001b[39mnot\u001b[39;00m \u001b[39mNone\u001b[39;00m:\n",
      "\u001b[0;31mKeyboardInterrupt\u001b[0m: "
     ]
    }
   ],
   "source": [
    "history = model.fit_generator(train_gen, \n",
    "                              epochs = epochs, \n",
    "                              steps_per_epoch = train_steps,\n",
    "                              validation_data = test_gen,\n",
    "                              validation_steps = valid_steps, \n",
    "                              callbacks=[es, rp])"
   ]
  },
  {
   "cell_type": "markdown",
   "metadata": {},
   "source": [
    "학습 결과 요약 -> 개쩜 굳."
   ]
  },
  {
   "cell_type": "code",
   "execution_count": 14,
   "metadata": {},
   "outputs": [
    {
     "ename": "NameError",
     "evalue": "name 'history' is not defined",
     "output_type": "error",
     "traceback": [
      "\u001b[0;31m---------------------------------------------------------------------------\u001b[0m",
      "\u001b[0;31mNameError\u001b[0m                                 Traceback (most recent call last)",
      "Cell \u001b[0;32mIn[14], line 2\u001b[0m\n\u001b[1;32m      1\u001b[0m fig, ax \u001b[39m=\u001b[39m plt\u001b[39m.\u001b[39msubplots(\u001b[39m2\u001b[39m,\u001b[39m1\u001b[39m, figsize\u001b[39m=\u001b[39m(\u001b[39m18\u001b[39m, \u001b[39m10\u001b[39m))\n\u001b[0;32m----> 2\u001b[0m ax[\u001b[39m0\u001b[39m]\u001b[39m.\u001b[39mplot(history\u001b[39m.\u001b[39mhistory[\u001b[39m'\u001b[39m\u001b[39mloss\u001b[39m\u001b[39m'\u001b[39m], color\u001b[39m=\u001b[39m\u001b[39m'\u001b[39m\u001b[39mb\u001b[39m\u001b[39m'\u001b[39m, label\u001b[39m=\u001b[39m\u001b[39m\"\u001b[39m\u001b[39mTraining loss\u001b[39m\u001b[39m\"\u001b[39m)\n\u001b[1;32m      3\u001b[0m ax[\u001b[39m0\u001b[39m]\u001b[39m.\u001b[39mplot(history\u001b[39m.\u001b[39mhistory[\u001b[39m'\u001b[39m\u001b[39mval_loss\u001b[39m\u001b[39m'\u001b[39m], color\u001b[39m=\u001b[39m\u001b[39m'\u001b[39m\u001b[39mr\u001b[39m\u001b[39m'\u001b[39m, label\u001b[39m=\u001b[39m\u001b[39m\"\u001b[39m\u001b[39mvalidation loss\u001b[39m\u001b[39m\"\u001b[39m,axes \u001b[39m=\u001b[39max[\u001b[39m0\u001b[39m])\n\u001b[1;32m      4\u001b[0m legend \u001b[39m=\u001b[39m ax[\u001b[39m0\u001b[39m]\u001b[39m.\u001b[39mlegend(loc\u001b[39m=\u001b[39m\u001b[39m'\u001b[39m\u001b[39mbest\u001b[39m\u001b[39m'\u001b[39m, shadow\u001b[39m=\u001b[39m\u001b[39mTrue\u001b[39;00m)\n",
      "\u001b[0;31mNameError\u001b[0m: name 'history' is not defined"
     ]
    },
    {
     "data": {
      "image/png": "[encoded data removed]",
      "text/plain": [
       "<Figure size 1800x1000 with 2 Axes>"
      ]
     },
     "metadata": {},
     "output_type": "display_data"
    }
   ],
   "source": [
    "fig, ax = plt.subplots(2,1, figsize=(18, 10))\n",
    "ax[0].plot(history.history['loss'], color='b', label=\"Training loss\")\n",
    "ax[0].plot(history.history['val_loss'], color='r', label=\"validation loss\",axes =ax[0])\n",
    "legend = ax[0].legend(loc='best', shadow=True)\n",
    "\n",
    "ax[1].plot(history.history['accuracy'], color='b', label=\"Training accuracy\")\n",
    "ax[1].plot(history.history['val_accuracy'], color='r',label=\"Validation accuracy\")\n",
    "legend = ax[1].legend(loc='best', shadow=True)"
   ]
  },
  {
   "cell_type": "markdown",
   "metadata": {},
   "source": [
    "Confusion Matrix 그리기. 대각선이 정답."
   ]
  },
  {
   "cell_type": "code",
   "execution_count": 15,
   "metadata": {},
   "outputs": [
    {
     "name": "stderr",
     "output_type": "stream",
     "text": [
      "2023-08-09 01:50:13.473553: I tensorflow/core/grappler/optimizers/custom_graph_optimizer_registry.cc:113] Plugin optimizer for device_type GPU is enabled.\n"
     ]
    },
    {
     "name": "stdout",
     "output_type": "stream",
     "text": [
      "132/132 [==============================] - 2s 13ms/step\n"
     ]
    },
    {
     "data": {
      "image/png": "[encoded data removed]",
      "text/plain": [
       "<Figure size 1000x1000 with 1 Axes>"
      ]
     },
     "metadata": {},
     "output_type": "display_data"
    }
   ],
   "source": [
    "fig = plt.figure(figsize=(10, 10)) # Set Figure\n",
    "\n",
    "y_pred = model.predict(X_test) # Predict class probabilities as 2 => [0.1, 0, 0.9, 0, 0, 0, 0, 0, 0, 0]\n",
    "\n",
    "Y_pred = np.argmax(y_pred, 1) # Decode Predicted labels\n",
    "Y_test = np.argmax(y_test, 1) # Decode labels\n",
    "\n",
    "mat = confusion_matrix(Y_test, Y_pred) # Confusion matrix\n",
    "\n",
    "# Plot Confusion matrix\n",
    "sns.heatmap(mat.T, square=True, annot=True, cbar=False, cmap=plt.cm.Blues, fmt='.0f')\n",
    "plt.xlabel('Predicted Values')\n",
    "plt.ylabel('True Values');\n",
    "plt.show();"
   ]
  },
  {
   "cell_type": "code",
   "execution_count": null,
   "metadata": {},
   "outputs": [],
   "source": [
    "test_loss, test_accuracy = model.evaluate(X_test, y_test, verbose=2)\n",
    "print(f\"Test accuracy: {test_accuracy} Test loss: {test_loss}\")"
   ]
  },
  {
   "cell_type": "markdown",
   "metadata": {},
   "source": [
    "### FINAL. 모델을 저장하기."
   ]
  },
  {
   "cell_type": "code",
   "execution_count": null,
   "metadata": {},
   "outputs": [],
   "source": [
    "model.save('my_model.h5')"
   ]
  }
 ],
 "metadata": {
  "kernelspec": {
   "display_name": "vision",
   "language": "python",
   "name": "python3"
  },
  "language_info": {
   "codemirror_mode": {
    "name": "ipython",
    "version": 3
   },
   "file_extension": ".py",
   "mimetype": "text/x-python",
   "name": "python",
   "nbconvert_exporter": "python",
   "pygments_lexer": "ipython3",
   "version": "3.9.17"
  },
  "orig_nbformat": 4
 },
 "nbformat": 4,
 "nbformat_minor": 2
}

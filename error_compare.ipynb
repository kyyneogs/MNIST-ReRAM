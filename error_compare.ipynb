{
 "cells": [
  {
   "cell_type": "code",
   "execution_count": 1,
   "metadata": {},
   "outputs": [],
   "source": [
    "from sklearn.model_selection import train_test_split\n",
    "\n",
    "from tensorflow.keras.models import Sequential, load_model\n",
    "from tensorflow.keras.layers import Conv2D, Dense, Lambda\n",
    "from tensorflow.keras.utils import to_categorical\n",
    "import tensorflow\n",
    "import pandas as pd\n",
    "import numpy as np"
   ]
  },
  {
   "cell_type": "code",
   "execution_count": 2,
   "metadata": {},
   "outputs": [
    {
     "name": "stdout",
     "output_type": "stream",
     "text": [
      "Metal device set to: Apple M2\n",
      "\n",
      "systemMemory: 16.00 GB\n",
      "maxCacheSize: 5.33 GB\n",
      "\n"
     ]
    },
    {
     "name": "stderr",
     "output_type": "stream",
     "text": [
      "2023-08-09 00:17:33.364250: I tensorflow/core/common_runtime/pluggable_device/pluggable_device_factory.cc:305] Could not identify NUMA node of platform GPU ID 0, defaulting to 0. Your kernel may not have been built with NUMA support.\n",
      "2023-08-09 00:17:33.364387: I tensorflow/core/common_runtime/pluggable_device/pluggable_device_factory.cc:271] Created TensorFlow device (/job:localhost/replica:0/task:0/device:GPU:0 with 0 MB memory) -> physical PluggableDevice (device: 0, name: METAL, pci bus id: <undefined>)\n"
     ]
    },
    {
     "name": "stdout",
     "output_type": "stream",
     "text": [
      "Data are Ready!!\n",
      "Testing data size is (42000, 785)\n"
     ]
    }
   ],
   "source": [
    "normal_model = load_model(\"my_model.h5\")\n",
    "test = pd.read_csv('./input/train.csv')\n",
    "print(\"Data are Ready!!\")\n",
    "print(f\"Testing data size is {test.shape}\")"
   ]
  },
  {
   "cell_type": "code",
   "execution_count": 3,
   "metadata": {},
   "outputs": [
    {
     "name": "stderr",
     "output_type": "stream",
     "text": [
      "/var/folders/v3/ybc9hrrd0yg6d_zr2sbckrtm0000gn/T/ipykernel_7121/3112465331.py:1: FutureWarning: In a future version of pandas all arguments of DataFrame.drop except for the argument 'labels' will be keyword-only.\n",
      "  X_test = test.drop(['label'], 1).values\n"
     ]
    }
   ],
   "source": [
    "X_test = test.drop(['label'], 1).values\n",
    "y_test = test['label'].values"
   ]
  },
  {
   "cell_type": "code",
   "execution_count": 4,
   "metadata": {},
   "outputs": [],
   "source": [
    "_, X_test, _, y_test = train_test_split(X_test, y_test, test_size=0.1, random_state=0)"
   ]
  },
  {
   "cell_type": "code",
   "execution_count": 5,
   "metadata": {},
   "outputs": [
    {
     "name": "stdout",
     "output_type": "stream",
     "text": [
      "Label size (4200, 10)\n"
     ]
    }
   ],
   "source": [
    "X_test = X_test / 255.0\n",
    "X_test = X_test.reshape(-1,28,28,1)\n",
    "\n",
    "y_test = to_categorical(y_test)\n",
    "\n",
    "print(f\"Label size {y_test.shape}\")"
   ]
  },
  {
   "cell_type": "code",
   "execution_count": 6,
   "metadata": {},
   "outputs": [],
   "source": [
    "def random_multiplier(shape):\n",
    "    return tensorflow.random.uniform(shape, minval=0.99, maxval=1.01)\n",
    "\n",
    "class RandomMultiplierLayer(tensorflow.keras.layers.Layer):\n",
    "    def call(self, inputs):\n",
    "        random_factors = random_multiplier(inputs.shape[1:])\n",
    "        return inputs * random_factors\n",
    "\n",
    "# 커스텀 레이어 추가하여 새 모델 구축\n",
    "error_model = Sequential()\n",
    "for layer in normal_model.layers:\n",
    "    error_model.add(layer)  # 기존 레이어 추가\n",
    "    # if isinstance(layer, Conv2D) or isinstance(layer, Dense):\n",
    "    error_model.add(RandomMultiplierLayer())  # 랜덤한 값을 곱하는 레이어 추가\n",
    "\n",
    "# 컴파일 및 요약\n",
    "error_model.compile(optimizer='adam', loss='categorical_crossentropy', metrics=['accuracy'])"
   ]
  },
  {
   "cell_type": "code",
   "execution_count": 7,
   "metadata": {},
   "outputs": [
    {
     "name": "stderr",
     "output_type": "stream",
     "text": [
      "2023-08-09 00:17:35.462866: W tensorflow/core/platform/profile_utils/cpu_utils.cc:128] Failed to get CPU frequency: 0 Hz\n",
      "2023-08-09 00:17:35.721323: I tensorflow/core/grappler/optimizers/custom_graph_optimizer_registry.cc:113] Plugin optimizer for device_type GPU is enabled.\n"
     ]
    },
    {
     "name": "stdout",
     "output_type": "stream",
     "text": [
      "132/132 - 2s - loss: 0.0145 - accuracy: 0.9950 - 2s/epoch - 15ms/step\n"
     ]
    },
    {
     "name": "stderr",
     "output_type": "stream",
     "text": [
      "2023-08-09 00:17:37.576776: I tensorflow/core/grappler/optimizers/custom_graph_optimizer_registry.cc:113] Plugin optimizer for device_type GPU is enabled.\n"
     ]
    },
    {
     "name": "stdout",
     "output_type": "stream",
     "text": [
      "132/132 - 1s - loss: 0.0145 - accuracy: 0.9950 - 1s/epoch - 11ms/step\n",
      "Test normal model accuracy: 0.9950000047683716 Test error model accuracy: 0.9950000047683716\n"
     ]
    }
   ],
   "source": [
    "test_error_loss, test_error_accuracy = error_model.evaluate(X_test, y_test, verbose=2)\n",
    "test_normal_loss, test_normal_accuracy = normal_model.evaluate(X_test, y_test, verbose=2)\n",
    "print(f\"Test normal model accuracy: {test_normal_accuracy} Test error model accuracy: {test_error_accuracy}\")"
   ]
  },
  {
   "cell_type": "code",
   "execution_count": 8,
   "metadata": {},
   "outputs": [],
   "source": [
    "def save_weights_to_text(model, file_path):\n",
    "    with open(file_path, 'w') as file:\n",
    "        for layer in model.layers:\n",
    "            weights = layer.get_weights()\n",
    "            if len(weights) > 0:\n",
    "                weights_text = [str(w.tolist()) for w in weights]\n",
    "                weights_str = \"\\n\".join(weights_text)\n",
    "                file.write(f\"Layer: {layer.name}\\n\")\n",
    "                file.write(weights_str + \"\\n\\n\")"
   ]
  },
  {
   "cell_type": "code",
   "execution_count": 9,
   "metadata": {},
   "outputs": [],
   "source": [
    "weights_file_path = './model_weights.txt'\n",
    "save_weights_to_text(normal_model, weights_file_path)"
   ]
  },
  {
   "cell_type": "code",
   "execution_count": 10,
   "metadata": {},
   "outputs": [],
   "source": [
    "weights_file_path = './error_model_weights.txt'\n",
    "save_weights_to_text(error_model, weights_file_path)"
   ]
  }
 ],
 "metadata": {
  "kernelspec": {
   "display_name": "vision",
   "language": "python",
   "name": "python3"
  },
  "language_info": {
   "codemirror_mode": {
    "name": "ipython",
    "version": 3
   },
   "file_extension": ".py",
   "mimetype": "text/x-python",
   "name": "python",
   "nbconvert_exporter": "python",
   "pygments_lexer": "ipython3",
   "version": "3.9.17"
  },
  "orig_nbformat": 4
 },
 "nbformat": 4,
 "nbformat_minor": 2
}
